{
 "cells": [
  {
   "cell_type": "markdown",
   "id": "fa53362b",
   "metadata": {},
   "source": [
    "##### Python Data Structures & Boolean"
   ]
  },
  {
   "cell_type": "markdown",
   "id": "6d70ef4f",
   "metadata": {},
   "source": [
    "Booleans Variables"
   ]
  },
  {
   "cell_type": "markdown",
   "id": "89cd77de",
   "metadata": {},
   "source": [
    "Boolean are two constant objects (Flase & True)\n",
    "\n",
    "+ In Numeric context , when we use an argument to an \n",
    "arithmetic operator they act like integers 0 and 1 ,\n",
    "\n",
    "while 1 represent yes and 0 represent false"
   ]
  },
  {
   "cell_type": "code",
   "execution_count": 1,
   "id": "90c80a0a",
   "metadata": {},
   "outputs": [
    {
     "name": "stdout",
     "output_type": "stream",
     "text": [
      "True False\n"
     ]
    }
   ],
   "source": [
    "print(True,False)"
   ]
  },
  {
   "cell_type": "code",
   "execution_count": 2,
   "id": "a61bafc0",
   "metadata": {},
   "outputs": [
    {
     "data": {
      "text/plain": [
       "bool"
      ]
     },
     "execution_count": 2,
     "metadata": {},
     "output_type": "execute_result"
    }
   ],
   "source": [
    "type(True)"
   ]
  },
  {
   "cell_type": "code",
   "execution_count": 3,
   "id": "df0e6c78",
   "metadata": {},
   "outputs": [
    {
     "data": {
      "text/plain": [
       "bool"
      ]
     },
     "execution_count": 3,
     "metadata": {},
     "output_type": "execute_result"
    }
   ],
   "source": [
    "type(False)"
   ]
  },
  {
   "cell_type": "code",
   "execution_count": 4,
   "id": "7b472315",
   "metadata": {},
   "outputs": [],
   "source": [
    "# Using bool() in different methods\n",
    "my_name = \"Khan\""
   ]
  },
  {
   "cell_type": "code",
   "execution_count": 5,
   "id": "f5f6457f",
   "metadata": {},
   "outputs": [
    {
     "name": "stdout",
     "output_type": "stream",
     "text": [
      "True\n",
      "True\n",
      "False\n",
      "False\n",
      "False\n",
      "False\n",
      "True\n",
      "False\n",
      "False\n"
     ]
    }
   ],
   "source": [
    "print(my_name.isalnum())#to see if all char are aphanumeric\n",
    "print(my_name.isalpha())# to see if all char in the string are alphabetic\n",
    "print(my_name.isdigit())# to see if all  the char in string are digits\n",
    "print(my_name.isupper())#to see if all the char are uppercase\n",
    "print(my_name.islower())#to see if all the char are lowercase\n",
    "print(my_name.isspace())#to see if all the char contrain space\n",
    "print(my_name.endswith('n'))# to see if the last alphabet is n\n",
    "print(my_name.endswith('d'))# to see if the last alphabet is d\n",
    "print(my_name.startswith('n'))# to see if the last alphabet is n"
   ]
  },
  {
   "cell_type": "code",
   "execution_count": 6,
   "id": "6275b1eb",
   "metadata": {},
   "outputs": [
    {
     "name": "stdout",
     "output_type": "stream",
     "text": [
      "True\n"
     ]
    }
   ],
   "source": [
    "name= \"KHAN\"\n",
    "print(name.isupper())"
   ]
  },
  {
   "cell_type": "markdown",
   "id": "417b3964",
   "metadata": {},
   "source": [
    "##### Boolean & Logical Operators"
   ]
  },
  {
   "cell_type": "code",
   "execution_count": 7,
   "id": "4ab0b656",
   "metadata": {},
   "outputs": [
    {
     "data": {
      "text/plain": [
       "False"
      ]
     },
     "execution_count": 7,
     "metadata": {},
     "output_type": "execute_result"
    }
   ],
   "source": [
    "True and False"
   ]
  },
  {
   "cell_type": "code",
   "execution_count": 8,
   "id": "02275a1a",
   "metadata": {},
   "outputs": [
    {
     "data": {
      "text/plain": [
       "True"
      ]
     },
     "execution_count": 8,
     "metadata": {},
     "output_type": "execute_result"
    }
   ],
   "source": [
    "True and True"
   ]
  },
  {
   "cell_type": "code",
   "execution_count": 9,
   "id": "07de61ca",
   "metadata": {},
   "outputs": [
    {
     "data": {
      "text/plain": [
       "False"
      ]
     },
     "execution_count": 9,
     "metadata": {},
     "output_type": "execute_result"
    }
   ],
   "source": [
    "False and True"
   ]
  },
  {
   "cell_type": "code",
   "execution_count": 10,
   "id": "c5908fb3",
   "metadata": {},
   "outputs": [
    {
     "data": {
      "text/plain": [
       "False"
      ]
     },
     "execution_count": 10,
     "metadata": {},
     "output_type": "execute_result"
    }
   ],
   "source": [
    "False and False"
   ]
  },
  {
   "cell_type": "code",
   "execution_count": 11,
   "id": "bc680f89",
   "metadata": {},
   "outputs": [
    {
     "data": {
      "text/plain": [
       "True"
      ]
     },
     "execution_count": 11,
     "metadata": {},
     "output_type": "execute_result"
    }
   ],
   "source": [
    "True or False"
   ]
  },
  {
   "cell_type": "code",
   "execution_count": 12,
   "id": "32b0f5f7",
   "metadata": {},
   "outputs": [
    {
     "data": {
      "text/plain": [
       "True"
      ]
     },
     "execution_count": 12,
     "metadata": {},
     "output_type": "execute_result"
    }
   ],
   "source": [
    "False or True"
   ]
  },
  {
   "cell_type": "code",
   "execution_count": 13,
   "id": "71828425",
   "metadata": {},
   "outputs": [],
   "source": [
    "# Forexample\n",
    "first_name = \"Muhammad\"\n",
    "last_name = \"khan\""
   ]
  },
  {
   "cell_type": "code",
   "execution_count": 14,
   "id": "b4c7d6b4",
   "metadata": {},
   "outputs": [
    {
     "data": {
      "text/plain": [
       "False"
      ]
     },
     "execution_count": 14,
     "metadata": {},
     "output_type": "execute_result"
    }
   ],
   "source": [
    "first_name.isalpha() and last_name.isdigit()"
   ]
  },
  {
   "cell_type": "code",
   "execution_count": 15,
   "id": "38b4c969",
   "metadata": {},
   "outputs": [
    {
     "data": {
      "text/plain": [
       "True"
      ]
     },
     "execution_count": 15,
     "metadata": {},
     "output_type": "execute_result"
    }
   ],
   "source": [
    "first_name.isalpha() or last_name.isnum()"
   ]
  },
  {
   "cell_type": "markdown",
   "id": "a91816c7",
   "metadata": {},
   "source": [
    "#### Lists"
   ]
  },
  {
   "cell_type": "markdown",
   "id": "c6ee7d62",
   "metadata": {},
   "source": [
    "+ a is mutable or changebale , ordered sequence of elements\n",
    "\n",
    "each element or value that is in the list is called item .\n",
    "\n",
    "it is denoted by [ ]"
   ]
  },
  {
   "cell_type": "markdown",
   "id": "973d25f7",
   "metadata": {},
   "source": [
    "my_name = []"
   ]
  },
  {
   "cell_type": "code",
   "execution_count": 16,
   "id": "4715117c",
   "metadata": {},
   "outputs": [
    {
     "data": {
      "text/plain": [
       "str"
      ]
     },
     "execution_count": 16,
     "metadata": {},
     "output_type": "execute_result"
    }
   ],
   "source": [
    "type(my_name)"
   ]
  },
  {
   "cell_type": "code",
   "execution_count": 17,
   "id": "0f808ec6",
   "metadata": {},
   "outputs": [],
   "source": [
    "lst = [] #creat an empty list"
   ]
  },
  {
   "cell_type": "code",
   "execution_count": 18,
   "id": "18bd2023",
   "metadata": {},
   "outputs": [
    {
     "data": {
      "text/plain": [
       "list"
      ]
     },
     "execution_count": 18,
     "metadata": {},
     "output_type": "execute_result"
    }
   ],
   "source": [
    "lst = [\"khan\",\"newyork\",1,3,4,5,5] #putting items in lst\n",
    "type(lst) #checking type pf lst"
   ]
  },
  {
   "cell_type": "code",
   "execution_count": 19,
   "id": "623fc244",
   "metadata": {},
   "outputs": [
    {
     "name": "stdout",
     "output_type": "stream",
     "text": [
      "['khan', 'newyork', 1, 3, 4, 5, 5]\n"
     ]
    }
   ],
   "source": [
    "print(lst) # display print all items of lst"
   ]
  },
  {
   "cell_type": "markdown",
   "id": "0b4adaf6",
   "metadata": {},
   "source": [
    "#### Append"
   ]
  },
  {
   "cell_type": "code",
   "execution_count": 20,
   "id": "b29633ea",
   "metadata": {},
   "outputs": [],
   "source": [
    "# .append method is use for adding elements in to the list\n",
    "list = [\"khan\",23]\n",
    "list.append(\"Muhammad\")"
   ]
  },
  {
   "cell_type": "code",
   "execution_count": 21,
   "id": "51c06628",
   "metadata": {},
   "outputs": [
    {
     "name": "stdout",
     "output_type": "stream",
     "text": [
      "['khan', 23, 'Muhammad']\n"
     ]
    }
   ],
   "source": [
    "print(list)\n",
    "# it will append (add)element into the end of list"
   ]
  },
  {
   "cell_type": "code",
   "execution_count": 22,
   "id": "bd447c42",
   "metadata": {
    "scrolled": false
   },
   "outputs": [
    {
     "data": {
      "text/plain": [
       "56"
      ]
     },
     "execution_count": 22,
     "metadata": {},
     "output_type": "execute_result"
    }
   ],
   "source": [
    "#### Indexing\n",
    "list2 = [\"jenny\",45,56,\"david\"]\n",
    "list2[2]"
   ]
  },
  {
   "cell_type": "code",
   "execution_count": 23,
   "id": "51b627e9",
   "metadata": {},
   "outputs": [
    {
     "data": {
      "text/plain": [
       "'jenny'"
      ]
     },
     "execution_count": 23,
     "metadata": {},
     "output_type": "execute_result"
    }
   ],
   "source": [
    "list2[0]"
   ]
  },
  {
   "cell_type": "code",
   "execution_count": 24,
   "id": "51ab1097",
   "metadata": {
    "scrolled": true
   },
   "outputs": [
    {
     "data": {
      "text/plain": [
       "'david'"
      ]
     },
     "execution_count": 24,
     "metadata": {},
     "output_type": "execute_result"
    }
   ],
   "source": [
    "list2[-1]"
   ]
  },
  {
   "cell_type": "code",
   "execution_count": 25,
   "id": "5bd7c822",
   "metadata": {},
   "outputs": [
    {
     "data": {
      "text/plain": [
       "'david'"
      ]
     },
     "execution_count": 25,
     "metadata": {},
     "output_type": "execute_result"
    }
   ],
   "source": [
    "list2[3]"
   ]
  },
  {
   "cell_type": "markdown",
   "id": "acadb738",
   "metadata": {},
   "source": [
    "#### Insert"
   ]
  },
  {
   "cell_type": "code",
   "execution_count": 26,
   "id": "bc9fd187",
   "metadata": {},
   "outputs": [
    {
     "name": "stdout",
     "output_type": "stream",
     "text": [
      "['ahmad', 'jennifer', 'sara', 233, 34]\n"
     ]
    }
   ],
   "source": [
    "# .insert is used for inserting an element or item on specific index or place\n",
    "my_list = [\"ahmad\",\"sara\",233,34]\n",
    "my_list.insert(1,\"jennifer\")\n",
    "print(my_list)\n",
    "# we saw that it comes on the second position because we give it index 1 position "
   ]
  },
  {
   "cell_type": "code",
   "execution_count": 27,
   "id": "a44b7dd5",
   "metadata": {},
   "outputs": [
    {
     "name": "stdout",
     "output_type": "stream",
     "text": [
      "['ahmad', 'jennifer', 'sara', 233, 'alex', 34]\n"
     ]
    }
   ],
   "source": [
    "my_list.insert(4,\"alex\")\n",
    "print(my_list)"
   ]
  },
  {
   "cell_type": "markdown",
   "id": "e0022898",
   "metadata": {},
   "source": [
    "#### list into list (Nested list)"
   ]
  },
  {
   "cell_type": "code",
   "execution_count": 28,
   "id": "c9c9fc42",
   "metadata": {},
   "outputs": [
    {
     "data": {
      "text/plain": [
       "list"
      ]
     },
     "execution_count": 28,
     "metadata": {},
     "output_type": "execute_result"
    }
   ],
   "source": [
    "# we will creat a list and add another list into it \n",
    "my_course = [\"physics\",\"chemistry\"] # we created a list\n",
    "type(my_course) # lets check type offource it will be a list because we use [ ]"
   ]
  },
  {
   "cell_type": "code",
   "execution_count": 29,
   "id": "2e77bef1",
   "metadata": {},
   "outputs": [],
   "source": [
    "#lets add another list into it\n",
    "my_course.append([\"math,biology\"])"
   ]
  },
  {
   "cell_type": "code",
   "execution_count": 30,
   "id": "d7ecf33b",
   "metadata": {},
   "outputs": [
    {
     "name": "stdout",
     "output_type": "stream",
     "text": [
      "['physics', 'chemistry', ['math,biology']]\n"
     ]
    }
   ],
   "source": [
    "#lets see \n",
    "print(my_course) #this is called nested list means making list into list"
   ]
  },
  {
   "cell_type": "code",
   "execution_count": 31,
   "id": "65e86046",
   "metadata": {},
   "outputs": [],
   "source": [
    "#lets add element into this list now\n",
    "# we will use .insert function\n",
    "my_course.insert(0,\"calculus\")"
   ]
  },
  {
   "cell_type": "code",
   "execution_count": 32,
   "id": "66bebda2",
   "metadata": {},
   "outputs": [
    {
     "name": "stdout",
     "output_type": "stream",
     "text": [
      "['calculus', 'physics', 'chemistry', ['math,biology']]\n"
     ]
    }
   ],
   "source": [
    "print(my_course) # we see in inset we use indexing positions where 0 is index and we put\n",
    "# calculus at 0 position"
   ]
  },
  {
   "cell_type": "markdown",
   "id": "de234b4a",
   "metadata": {},
   "source": [
    "#### Extend Mthod"
   ]
  },
  {
   "cell_type": "code",
   "execution_count": 33,
   "id": "4c268c6b",
   "metadata": {},
   "outputs": [],
   "source": [
    "# in this function .extend it will extednd the element  in to the list but ignore \n",
    "#its list form of nested list forexample\n",
    "llist = [1,2,3,4,5,6]"
   ]
  },
  {
   "cell_type": "code",
   "execution_count": 34,
   "id": "ef1032a3",
   "metadata": {},
   "outputs": [],
   "source": [
    "llist.extend([7,8,9])"
   ]
  },
  {
   "cell_type": "code",
   "execution_count": 35,
   "id": "99d9b016",
   "metadata": {},
   "outputs": [
    {
     "name": "stdout",
     "output_type": "stream",
     "text": [
      "[1, 2, 3, 4, 5, 6, 7, 8, 9]\n"
     ]
    }
   ],
   "source": [
    "print(llist) # we saw that it not creat nested list |7,8,9] into llist"
   ]
  },
  {
   "cell_type": "markdown",
   "id": "7047e6ae",
   "metadata": {},
   "source": [
    "#### Different Operations for List"
   ]
  },
  {
   "cell_type": "code",
   "execution_count": 36,
   "id": "0071135f",
   "metadata": {},
   "outputs": [],
   "source": [
    "lst = [1,2,3,4,5,6]"
   ]
  },
  {
   "cell_type": "code",
   "execution_count": 37,
   "id": "e2e1d8b7",
   "metadata": {},
   "outputs": [
    {
     "data": {
      "text/plain": [
       "21"
      ]
     },
     "execution_count": 37,
     "metadata": {},
     "output_type": "execute_result"
    }
   ],
   "source": [
    "sum(lst)"
   ]
  },
  {
   "cell_type": "markdown",
   "id": "3a34b8cc",
   "metadata": {},
   "source": [
    "#### Pop Method"
   ]
  },
  {
   "cell_type": "markdown",
   "id": "45ccadb7",
   "metadata": {},
   "source": [
    "+ it remove the last element of list"
   ]
  },
  {
   "cell_type": "code",
   "execution_count": 38,
   "id": "d0567a0c",
   "metadata": {},
   "outputs": [],
   "source": [
    "list = [12,23,345,65,7,78]"
   ]
  },
  {
   "cell_type": "code",
   "execution_count": 39,
   "id": "f0893797",
   "metadata": {},
   "outputs": [
    {
     "data": {
      "text/plain": [
       "78"
      ]
     },
     "execution_count": 39,
     "metadata": {},
     "output_type": "execute_result"
    }
   ],
   "source": [
    "list.pop()"
   ]
  },
  {
   "cell_type": "code",
   "execution_count": 40,
   "id": "8bec860b",
   "metadata": {},
   "outputs": [
    {
     "name": "stdout",
     "output_type": "stream",
     "text": [
      "[12, 23, 345, 65, 7]\n"
     ]
    }
   ],
   "source": [
    "print(list)"
   ]
  },
  {
   "cell_type": "code",
   "execution_count": 41,
   "id": "a35bcf60",
   "metadata": {},
   "outputs": [
    {
     "data": {
      "text/plain": [
       "345"
      ]
     },
     "execution_count": 41,
     "metadata": {},
     "output_type": "execute_result"
    }
   ],
   "source": [
    "list.pop(2)"
   ]
  },
  {
   "cell_type": "code",
   "execution_count": 42,
   "id": "a45edb3c",
   "metadata": {},
   "outputs": [
    {
     "name": "stdout",
     "output_type": "stream",
     "text": [
      "[12, 23, 65, 7]\n"
     ]
    }
   ],
   "source": [
    "print(list)"
   ]
  },
  {
   "cell_type": "markdown",
   "id": "a134a8ae",
   "metadata": {},
   "source": [
    "#### .count( )   method"
   ]
  },
  {
   "cell_type": "code",
   "execution_count": 43,
   "id": "9ab8e6fc",
   "metadata": {},
   "outputs": [
    {
     "data": {
      "text/plain": [
       "2"
      ]
     },
     "execution_count": 43,
     "metadata": {},
     "output_type": "execute_result"
    }
   ],
   "source": [
    "list = [12,12, 23, 65, 7]\n",
    "list.count(12)"
   ]
  },
  {
   "cell_type": "code",
   "execution_count": 44,
   "id": "ea2869ff",
   "metadata": {},
   "outputs": [
    {
     "data": {
      "text/plain": [
       "5"
      ]
     },
     "execution_count": 44,
     "metadata": {},
     "output_type": "execute_result"
    }
   ],
   "source": [
    "len(list) # it will show the total number of elements present in lsit"
   ]
  },
  {
   "cell_type": "code",
   "execution_count": 45,
   "id": "3a83484d",
   "metadata": {},
   "outputs": [
    {
     "data": {
      "text/plain": [
       "1"
      ]
     },
     "execution_count": 45,
     "metadata": {},
     "output_type": "execute_result"
    }
   ],
   "source": [
    "#index\n",
    "list.index(12,1,4)#return the index of first occurence \n",
    "#start and end index are not necessary parameters"
   ]
  },
  {
   "cell_type": "markdown",
   "id": "1f4a0613",
   "metadata": {},
   "source": [
    "### Mean & Max"
   ]
  },
  {
   "cell_type": "code",
   "execution_count": 46,
   "id": "2c2e17e9",
   "metadata": {},
   "outputs": [
    {
     "data": {
      "text/plain": [
       "7"
      ]
     },
     "execution_count": 46,
     "metadata": {},
     "output_type": "execute_result"
    }
   ],
   "source": [
    "min(list) #so 7 is the minimum small element in the list"
   ]
  },
  {
   "cell_type": "code",
   "execution_count": 47,
   "id": "b29c4129",
   "metadata": {},
   "outputs": [
    {
     "data": {
      "text/plain": [
       "65"
      ]
     },
     "execution_count": 47,
     "metadata": {},
     "output_type": "execute_result"
    }
   ],
   "source": [
    "max(list) #65 is the max or highest element which is in the list"
   ]
  }
 ],
 "metadata": {
  "kernelspec": {
   "display_name": "Python 3 (ipykernel)",
   "language": "python",
   "name": "python3"
  },
  "language_info": {
   "codemirror_mode": {
    "name": "ipython",
    "version": 3
   },
   "file_extension": ".py",
   "mimetype": "text/x-python",
   "name": "python",
   "nbconvert_exporter": "python",
   "pygments_lexer": "ipython3",
   "version": "3.9.12"
  }
 },
 "nbformat": 4,
 "nbformat_minor": 5
}
